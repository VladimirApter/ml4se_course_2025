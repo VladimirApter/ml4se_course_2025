{
 "nbformat": 4,
 "nbformat_minor": 0,
 "metadata": {
  "colab": {
   "provenance": [],
   "authorship_tag": "ABX9TyPTZgvT7Yy+dar3BGcyAlTB",
   "include_colab_link": true
  },
  "kernelspec": {
   "name": "python3",
   "display_name": "Python 3"
  },
  "language_info": {
   "name": "python"
  }
 },
 "cells": [
  {
   "metadata": {},
   "cell_type": "markdown",
   "source": "<a href=\"https://colab.research.google.com/github/VladimirApter/ml4se_course_2025/blob/main/homeworks/ml4se_course_hw2.ipynb\" target=\"_parent\"><img src=\"https://colab.research.google.com/assets/colab-badge.svg\" alt=\"Open In Colab\"/></a>"
  },
  {
   "metadata": {},
   "cell_type": "markdown",
   "source": [
    "**Модель: ChatGPT 5**\n",
    "\n",
    "**Промпт:**\n",
    "\n",
    "В библиотеке micrograd следующая реализация класса Value:\n",
    "```python\n",
    "class Value:\n",
    "    def __init__(self, data, _children=(), _op=''):\n",
    "        self.data = data\n",
    "\n",
    "    #  --- Привожу в промпте полную реализацию ---\n",
    "\n",
    "    def __repr__(self):\n",
    "        return f\"Value(data={self.data}, grad={self.grad})\"\n",
    "```\n",
    "Добавь в реализацию метод tanh - гиперболический тангенс.\n",
    "И напиши пример нейрона, в котором tanh используется в качестве нелинейной функции."
   ]
  },
  {
   "metadata": {
    "ExecuteTime": {
     "end_time": "2025-10-08T09:18:06.889012Z",
     "start_time": "2025-10-08T09:18:06.885768Z"
    }
   },
   "cell_type": "code",
   "source": [
    "import math\n",
    "from graphviz import Digraph"
   ],
   "outputs": [],
   "execution_count": 37
  },
  {
   "metadata": {
    "ExecuteTime": {
     "end_time": "2025-10-08T09:18:06.905952Z",
     "start_time": "2025-10-08T09:18:06.900651Z"
    }
   },
   "cell_type": "code",
   "source": [
    "class Value:\n",
    "    \"\"\" stores a single scalar value and its gradient \"\"\"\n",
    "\n",
    "    def __init__(self, data, _children=(), _op=''):\n",
    "        self.data = data\n",
    "        self.grad = 0\n",
    "        # internal variables used for autograd graph construction\n",
    "        self._backward = lambda: None\n",
    "        self._prev = set(_children)\n",
    "        self._op = _op # the op that produced this node, for graphviz / debugging / etc\n",
    "\n",
    "    def __add__(self, other):\n",
    "        other = other if isinstance(other, Value) else Value(other)\n",
    "        out = Value(self.data + other.data, (self, other), '+')\n",
    "\n",
    "        def _backward():\n",
    "            self.grad += out.grad\n",
    "            other.grad += out.grad\n",
    "        out._backward = _backward\n",
    "\n",
    "        return out\n",
    "\n",
    "    def __mul__(self, other):\n",
    "        other = other if isinstance(other, Value) else Value(other)\n",
    "        out = Value(self.data * other.data, (self, other), '*')\n",
    "\n",
    "        def _backward():\n",
    "            self.grad += other.data * out.grad\n",
    "            other.grad += self.data * out.grad\n",
    "        out._backward = _backward\n",
    "\n",
    "        return out\n",
    "\n",
    "    def __pow__(self, other):\n",
    "        assert isinstance(other, (int, float)), \"only supporting int/float powers for now\"\n",
    "        out = Value(self.data**other, (self,), f'**{other}')\n",
    "\n",
    "        def _backward():\n",
    "            self.grad += (other * self.data**(other-1)) * out.grad\n",
    "        out._backward = _backward\n",
    "\n",
    "        return out\n",
    "\n",
    "    def relu(self):\n",
    "        out = Value(0 if self.data < 0 else self.data, (self,), 'ReLU')\n",
    "\n",
    "        def _backward():\n",
    "            self.grad += (out.data > 0) * out.grad\n",
    "        out._backward = _backward\n",
    "\n",
    "        return out\n",
    "\n",
    "    def tanh(self):\n",
    "        t = math.tanh(self.data)\n",
    "        out = Value(t, (self,), 'tanh')\n",
    "\n",
    "        def _backward():\n",
    "            self.grad += (1 - t ** 2) * out.grad\n",
    "        out._backward = _backward\n",
    "\n",
    "        return out\n",
    "\n",
    "    def backward(self):\n",
    "\n",
    "        # topological order all of the children in the graph\n",
    "        topo = []\n",
    "        visited = set()\n",
    "        def build_topo(v):\n",
    "            if v not in visited:\n",
    "                visited.add(v)\n",
    "                for child in v._prev:\n",
    "                    build_topo(child)\n",
    "                topo.append(v)\n",
    "        build_topo(self)\n",
    "\n",
    "        # go one variable at a time and apply the chain rule to get its gradient\n",
    "        self.grad = 1\n",
    "        for v in reversed(topo):\n",
    "            v._backward()\n",
    "\n",
    "    def __neg__(self): # -self\n",
    "        return self * -1\n",
    "\n",
    "    def __radd__(self, other): # other + self\n",
    "        return self + other\n",
    "\n",
    "    def __sub__(self, other): # self - other\n",
    "        return self + (-other)\n",
    "\n",
    "    def __rsub__(self, other): # other - self\n",
    "        return other + (-self)\n",
    "\n",
    "    def __rmul__(self, other): # other * self\n",
    "        return self * other\n",
    "\n",
    "    def __truediv__(self, other): # self / other\n",
    "        return self * other**-1\n",
    "\n",
    "    def __rtruediv__(self, other): # other / self\n",
    "        return other * self**-1\n",
    "\n",
    "    def __repr__(self):\n",
    "        return f\"Value(data={self.data}, grad={self.grad})\""
   ],
   "outputs": [],
   "execution_count": 38
  },
  {
   "metadata": {
    "ExecuteTime": {
     "end_time": "2025-10-08T09:18:06.918336Z",
     "start_time": "2025-10-08T09:18:06.914111Z"
    }
   },
   "cell_type": "code",
   "source": [
    "def trace(root):\n",
    "    nodes, edges = set(), set()\n",
    "    def build(v):\n",
    "        if v not in nodes:\n",
    "            nodes.add(v)\n",
    "            for child in v._prev:\n",
    "                edges.add((child, v))\n",
    "                build(child)\n",
    "    build(root)\n",
    "    return nodes, edges\n",
    "\n",
    "def draw_dot(root, format='svg', rankdir='LR'):\n",
    "    \"\"\"\n",
    "    format: png | svg | ...\n",
    "    rankdir: TB (top to bottom graph) | LR (left to right)\n",
    "    \"\"\"\n",
    "    assert rankdir in ['LR', 'TB']\n",
    "    nodes, edges = trace(root)\n",
    "    dot = Digraph(format=format, graph_attr={'rankdir': rankdir}) #, node_attr={'rankdir': 'TB'})\n",
    "\n",
    "    for n in nodes:\n",
    "        dot.node(name=str(id(n)), label = \"{ data %.4f | grad %.4f }\" % (n.data, n.grad), shape='record')\n",
    "        if n._op:\n",
    "            dot.node(name=str(id(n)) + n._op, label=n._op)\n",
    "            dot.edge(str(id(n)) + n._op, str(id(n)))\n",
    "\n",
    "    for n1, n2 in edges:\n",
    "        dot.edge(str(id(n1)), str(id(n2)) + n2._op)\n",
    "\n",
    "    return dot"
   ],
   "outputs": [],
   "execution_count": 39
  },
  {
   "metadata": {
    "ExecuteTime": {
     "end_time": "2025-10-08T09:18:07.065552Z",
     "start_time": "2025-10-08T09:18:06.926683Z"
    }
   },
   "cell_type": "code",
   "source": [
    "# Example neuron\n",
    "\n",
    "# inputs:\n",
    "x1 = Value(2.0)\n",
    "x2 = Value(0.0)\n",
    "\n",
    "# weights:\n",
    "w1 = Value(-3.0)\n",
    "w2 = Value(1.0)\n",
    "\n",
    "# bias:\n",
    "b = Value(6.8814)\n",
    "\n",
    "# output:\n",
    "o = ((x1 * w1) + (x2 * w2) + b).tanh()\n",
    "\n",
    "o.backward()\n",
    "\n",
    "draw_dot(o)\n"
   ],
   "outputs": [
    {
     "data": {
      "image/svg+xml": "<?xml version=\"1.0\" encoding=\"UTF-8\" standalone=\"no\"?>\n<!DOCTYPE svg PUBLIC \"-//W3C//DTD SVG 1.1//EN\"\n \"http://www.w3.org/Graphics/SVG/1.1/DTD/svg11.dtd\">\n<!-- Generated by graphviz version 14.0.1 (20251006.0113)\n -->\n<!-- Pages: 1 -->\n<svg width=\"1331pt\" height=\"210pt\"\n viewBox=\"0.00 0.00 1331.00 210.00\" xmlns=\"http://www.w3.org/2000/svg\" xmlns:xlink=\"http://www.w3.org/1999/xlink\">\n<g id=\"graph0\" class=\"graph\" transform=\"scale(1 1) rotate(0) translate(4 206)\">\n<polygon fill=\"white\" stroke=\"none\" points=\"-4,4 -4,-206 1326.5,-206 1326.5,4 -4,4\"/>\n<!-- 1867797761072 -->\n<g id=\"node1\" class=\"node\">\n<title>1867797761072</title>\n<polygon fill=\"none\" stroke=\"black\" points=\"2.25,-165.5 2.25,-201.5 163.25,-201.5 163.25,-165.5 2.25,-165.5\"/>\n<text xml:space=\"preserve\" text-anchor=\"middle\" x=\"42.12\" y=\"-178.7\" font-family=\"Times New Roman,serif\" font-size=\"14.00\">data 1.0000</text>\n<polyline fill=\"none\" stroke=\"black\" points=\"82,-166 82,-201.5\"/>\n<text xml:space=\"preserve\" text-anchor=\"middle\" x=\"122.62\" y=\"-178.7\" font-family=\"Times New Roman,serif\" font-size=\"14.00\">grad 0.0000</text>\n</g>\n<!-- 1867797489296* -->\n<g id=\"node10\" class=\"node\">\n<title>1867797489296*</title>\n<ellipse fill=\"none\" stroke=\"black\" cx=\"228.5\" cy=\"-128.5\" rx=\"27\" ry=\"18\"/>\n<text xml:space=\"preserve\" text-anchor=\"middle\" x=\"228.5\" y=\"-123.45\" font-family=\"Times New Roman,serif\" font-size=\"14.00\">*</text>\n</g>\n<!-- 1867797761072&#45;&gt;1867797489296* -->\n<g id=\"edge9\" class=\"edge\">\n<title>1867797761072&#45;&gt;1867797489296*</title>\n<path fill=\"none\" stroke=\"black\" d=\"M142.08,-165.07C149.99,-162.33 157.98,-159.43 165.5,-156.5 175.41,-152.64 186.03,-148.02 195.62,-143.67\"/>\n<polygon fill=\"black\" stroke=\"black\" points=\"196.94,-146.92 204.56,-139.55 194.01,-140.56 196.94,-146.92\"/>\n</g>\n<!-- 1867797439056 -->\n<g id=\"node2\" class=\"node\">\n<title>1867797439056</title>\n<polygon fill=\"none\" stroke=\"black\" points=\"1161.5,-54.5 1161.5,-90.5 1322.5,-90.5 1322.5,-54.5 1161.5,-54.5\"/>\n<text xml:space=\"preserve\" text-anchor=\"middle\" x=\"1201.38\" y=\"-67.7\" font-family=\"Times New Roman,serif\" font-size=\"14.00\">data 0.7071</text>\n<polyline fill=\"none\" stroke=\"black\" points=\"1241.25,-55 1241.25,-90.5\"/>\n<text xml:space=\"preserve\" text-anchor=\"middle\" x=\"1281.88\" y=\"-67.7\" font-family=\"Times New Roman,serif\" font-size=\"14.00\">grad 1.0000</text>\n</g>\n<!-- 1867797439056tanh -->\n<g id=\"node3\" class=\"node\">\n<title>1867797439056tanh</title>\n<ellipse fill=\"none\" stroke=\"black\" cx=\"1098.5\" cy=\"-72.5\" rx=\"27\" ry=\"18\"/>\n<text xml:space=\"preserve\" text-anchor=\"middle\" x=\"1098.5\" y=\"-67.45\" font-family=\"Times New Roman,serif\" font-size=\"14.00\">tanh</text>\n</g>\n<!-- 1867797439056tanh&#45;&gt;1867797439056 -->\n<g id=\"edge1\" class=\"edge\">\n<title>1867797439056tanh&#45;&gt;1867797439056</title>\n<path fill=\"none\" stroke=\"black\" d=\"M1125.78,-72.5C1132.9,-72.5 1141.02,-72.5 1149.58,-72.5\"/>\n<polygon fill=\"black\" stroke=\"black\" points=\"1149.54,-76 1159.54,-72.5 1149.54,-69 1149.54,-76\"/>\n</g>\n<!-- 1867797435984 -->\n<g id=\"node4\" class=\"node\">\n<title>1867797435984</title>\n<polygon fill=\"none\" stroke=\"black\" points=\"874.5,-54.5 874.5,-90.5 1035.5,-90.5 1035.5,-54.5 874.5,-54.5\"/>\n<text xml:space=\"preserve\" text-anchor=\"middle\" x=\"914.38\" y=\"-67.7\" font-family=\"Times New Roman,serif\" font-size=\"14.00\">data 0.8814</text>\n<polyline fill=\"none\" stroke=\"black\" points=\"954.25,-55 954.25,-90.5\"/>\n<text xml:space=\"preserve\" text-anchor=\"middle\" x=\"994.88\" y=\"-67.7\" font-family=\"Times New Roman,serif\" font-size=\"14.00\">grad 0.5000</text>\n</g>\n<!-- 1867797435984&#45;&gt;1867797439056tanh -->\n<g id=\"edge13\" class=\"edge\">\n<title>1867797435984&#45;&gt;1867797439056tanh</title>\n<path fill=\"none\" stroke=\"black\" d=\"M1035.85,-72.5C1044.24,-72.5 1052.46,-72.5 1060.02,-72.5\"/>\n<polygon fill=\"black\" stroke=\"black\" points=\"1059.78,-76 1069.78,-72.5 1059.78,-69 1059.78,-76\"/>\n</g>\n<!-- 1867797435984+ -->\n<g id=\"node5\" class=\"node\">\n<title>1867797435984+</title>\n<ellipse fill=\"none\" stroke=\"black\" cx=\"811.5\" cy=\"-72.5\" rx=\"27\" ry=\"18\"/>\n<text xml:space=\"preserve\" text-anchor=\"middle\" x=\"811.5\" y=\"-67.45\" font-family=\"Times New Roman,serif\" font-size=\"14.00\">+</text>\n</g>\n<!-- 1867797435984+&#45;&gt;1867797435984 -->\n<g id=\"edge2\" class=\"edge\">\n<title>1867797435984+&#45;&gt;1867797435984</title>\n<path fill=\"none\" stroke=\"black\" d=\"M838.78,-72.5C845.9,-72.5 854.02,-72.5 862.58,-72.5\"/>\n<polygon fill=\"black\" stroke=\"black\" points=\"862.54,-76 872.54,-72.5 862.54,-69 862.54,-76\"/>\n</g>\n<!-- 1867797488208 -->\n<g id=\"node6\" class=\"node\">\n<title>1867797488208</title>\n<polygon fill=\"none\" stroke=\"black\" points=\"583,-82.5 583,-118.5 748.5,-118.5 748.5,-82.5 583,-82.5\"/>\n<text xml:space=\"preserve\" text-anchor=\"middle\" x=\"625.12\" y=\"-95.7\" font-family=\"Times New Roman,serif\" font-size=\"14.00\">data &#45;6.0000</text>\n<polyline fill=\"none\" stroke=\"black\" points=\"667.25,-83 667.25,-118.5\"/>\n<text xml:space=\"preserve\" text-anchor=\"middle\" x=\"707.88\" y=\"-95.7\" font-family=\"Times New Roman,serif\" font-size=\"14.00\">grad 0.5000</text>\n</g>\n<!-- 1867797488208&#45;&gt;1867797435984+ -->\n<g id=\"edge8\" class=\"edge\">\n<title>1867797488208&#45;&gt;1867797435984+</title>\n<path fill=\"none\" stroke=\"black\" d=\"M748.7,-84.54C757.5,-82.82 766.08,-81.15 773.92,-79.62\"/>\n<polygon fill=\"black\" stroke=\"black\" points=\"774.55,-83.07 783.7,-77.72 773.21,-76.2 774.55,-83.07\"/>\n</g>\n<!-- 1867797488208+ -->\n<g id=\"node7\" class=\"node\">\n<title>1867797488208+</title>\n<ellipse fill=\"none\" stroke=\"black\" cx=\"520\" cy=\"-100.5\" rx=\"27\" ry=\"18\"/>\n<text xml:space=\"preserve\" text-anchor=\"middle\" x=\"520\" y=\"-95.45\" font-family=\"Times New Roman,serif\" font-size=\"14.00\">+</text>\n</g>\n<!-- 1867797488208+&#45;&gt;1867797488208 -->\n<g id=\"edge3\" class=\"edge\">\n<title>1867797488208+&#45;&gt;1867797488208</title>\n<path fill=\"none\" stroke=\"black\" d=\"M547.37,-100.5C554.47,-100.5 562.57,-100.5 571.14,-100.5\"/>\n<polygon fill=\"black\" stroke=\"black\" points=\"571.09,-104 581.09,-100.5 571.09,-97 571.09,-104\"/>\n</g>\n<!-- 1867797682832 -->\n<g id=\"node8\" class=\"node\">\n<title>1867797682832</title>\n<polygon fill=\"none\" stroke=\"black\" points=\"0,-55.5 0,-91.5 165.5,-91.5 165.5,-55.5 0,-55.5\"/>\n<text xml:space=\"preserve\" text-anchor=\"middle\" x=\"42.12\" y=\"-68.7\" font-family=\"Times New Roman,serif\" font-size=\"14.00\">data &#45;3.0000</text>\n<polyline fill=\"none\" stroke=\"black\" points=\"84.25,-56 84.25,-91.5\"/>\n<text xml:space=\"preserve\" text-anchor=\"middle\" x=\"124.88\" y=\"-68.7\" font-family=\"Times New Roman,serif\" font-size=\"14.00\">grad 1.0000</text>\n</g>\n<!-- 1867797793680* -->\n<g id=\"node14\" class=\"node\">\n<title>1867797793680*</title>\n<ellipse fill=\"none\" stroke=\"black\" cx=\"228.5\" cy=\"-73.5\" rx=\"27\" ry=\"18\"/>\n<text xml:space=\"preserve\" text-anchor=\"middle\" x=\"228.5\" y=\"-68.45\" font-family=\"Times New Roman,serif\" font-size=\"14.00\">*</text>\n</g>\n<!-- 1867797682832&#45;&gt;1867797793680* -->\n<g id=\"edge6\" class=\"edge\">\n<title>1867797682832&#45;&gt;1867797793680*</title>\n<path fill=\"none\" stroke=\"black\" d=\"M165.7,-73.5C174.14,-73.5 182.4,-73.5 189.98,-73.5\"/>\n<polygon fill=\"black\" stroke=\"black\" points=\"189.77,-77 199.77,-73.5 189.77,-70 189.77,-77\"/>\n</g>\n<!-- 1867797489296 -->\n<g id=\"node9\" class=\"node\">\n<title>1867797489296</title>\n<polygon fill=\"none\" stroke=\"black\" points=\"293.75,-110.5 293.75,-146.5 454.75,-146.5 454.75,-110.5 293.75,-110.5\"/>\n<text xml:space=\"preserve\" text-anchor=\"middle\" x=\"333.62\" y=\"-123.7\" font-family=\"Times New Roman,serif\" font-size=\"14.00\">data 0.0000</text>\n<polyline fill=\"none\" stroke=\"black\" points=\"373.5,-111 373.5,-146.5\"/>\n<text xml:space=\"preserve\" text-anchor=\"middle\" x=\"414.12\" y=\"-123.7\" font-family=\"Times New Roman,serif\" font-size=\"14.00\">grad 0.5000</text>\n</g>\n<!-- 1867797489296&#45;&gt;1867797488208+ -->\n<g id=\"edge10\" class=\"edge\">\n<title>1867797489296&#45;&gt;1867797488208+</title>\n<path fill=\"none\" stroke=\"black\" d=\"M455.11,-112.94C464.6,-111.1 473.9,-109.28 482.34,-107.64\"/>\n<polygon fill=\"black\" stroke=\"black\" points=\"482.99,-111.08 492.14,-105.73 481.66,-104.21 482.99,-111.08\"/>\n</g>\n<!-- 1867797489296*&#45;&gt;1867797489296 -->\n<g id=\"edge4\" class=\"edge\">\n<title>1867797489296*&#45;&gt;1867797489296</title>\n<path fill=\"none\" stroke=\"black\" d=\"M255.87,-128.5C263.67,-128.5 272.7,-128.5 282.2,-128.5\"/>\n<polygon fill=\"black\" stroke=\"black\" points=\"282.02,-132 292.02,-128.5 282.02,-125 282.02,-132\"/>\n</g>\n<!-- 1867797762896 -->\n<g id=\"node11\" class=\"node\">\n<title>1867797762896</title>\n<polygon fill=\"none\" stroke=\"black\" points=\"585.25,-27.5 585.25,-63.5 746.25,-63.5 746.25,-27.5 585.25,-27.5\"/>\n<text xml:space=\"preserve\" text-anchor=\"middle\" x=\"625.12\" y=\"-40.7\" font-family=\"Times New Roman,serif\" font-size=\"14.00\">data 6.8814</text>\n<polyline fill=\"none\" stroke=\"black\" points=\"665,-28 665,-63.5\"/>\n<text xml:space=\"preserve\" text-anchor=\"middle\" x=\"705.62\" y=\"-40.7\" font-family=\"Times New Roman,serif\" font-size=\"14.00\">grad 0.5000</text>\n</g>\n<!-- 1867797762896&#45;&gt;1867797435984+ -->\n<g id=\"edge7\" class=\"edge\">\n<title>1867797762896&#45;&gt;1867797435984+</title>\n<path fill=\"none\" stroke=\"black\" d=\"M746.61,-60.5C756.1,-62.28 765.4,-64.03 773.84,-65.61\"/>\n<polygon fill=\"black\" stroke=\"black\" points=\"773.16,-69.05 783.64,-67.45 774.46,-62.17 773.16,-69.05\"/>\n</g>\n<!-- 1867797892464 -->\n<g id=\"node12\" class=\"node\">\n<title>1867797892464</title>\n<polygon fill=\"none\" stroke=\"black\" points=\"0,-0.5 0,-36.5 165.5,-36.5 165.5,-0.5 0,-0.5\"/>\n<text xml:space=\"preserve\" text-anchor=\"middle\" x=\"39.88\" y=\"-13.7\" font-family=\"Times New Roman,serif\" font-size=\"14.00\">data 2.0000</text>\n<polyline fill=\"none\" stroke=\"black\" points=\"79.75,-1 79.75,-36.5\"/>\n<text xml:space=\"preserve\" text-anchor=\"middle\" x=\"122.62\" y=\"-13.7\" font-family=\"Times New Roman,serif\" font-size=\"14.00\">grad &#45;1.4999</text>\n</g>\n<!-- 1867797892464&#45;&gt;1867797793680* -->\n<g id=\"edge14\" class=\"edge\">\n<title>1867797892464&#45;&gt;1867797793680*</title>\n<path fill=\"none\" stroke=\"black\" d=\"M142.08,-36.93C149.99,-39.67 157.98,-42.57 165.5,-45.5 175.41,-49.36 186.03,-53.98 195.62,-58.33\"/>\n<polygon fill=\"black\" stroke=\"black\" points=\"194.01,-61.44 204.56,-62.45 196.94,-55.08 194.01,-61.44\"/>\n</g>\n<!-- 1867797793680 -->\n<g id=\"node13\" class=\"node\">\n<title>1867797793680</title>\n<polygon fill=\"none\" stroke=\"black\" points=\"291.5,-55.5 291.5,-91.5 457,-91.5 457,-55.5 291.5,-55.5\"/>\n<text xml:space=\"preserve\" text-anchor=\"middle\" x=\"333.62\" y=\"-68.7\" font-family=\"Times New Roman,serif\" font-size=\"14.00\">data &#45;6.0000</text>\n<polyline fill=\"none\" stroke=\"black\" points=\"375.75,-56 375.75,-91.5\"/>\n<text xml:space=\"preserve\" text-anchor=\"middle\" x=\"416.38\" y=\"-68.7\" font-family=\"Times New Roman,serif\" font-size=\"14.00\">grad 0.5000</text>\n</g>\n<!-- 1867797793680&#45;&gt;1867797488208+ -->\n<g id=\"edge12\" class=\"edge\">\n<title>1867797793680&#45;&gt;1867797488208+</title>\n<path fill=\"none\" stroke=\"black\" d=\"M457.2,-88.89C466,-90.54 474.58,-92.16 482.42,-93.63\"/>\n<polygon fill=\"black\" stroke=\"black\" points=\"481.72,-97.06 492.2,-95.47 483.01,-90.18 481.72,-97.06\"/>\n</g>\n<!-- 1867797793680*&#45;&gt;1867797793680 -->\n<g id=\"edge5\" class=\"edge\">\n<title>1867797793680*&#45;&gt;1867797793680</title>\n<path fill=\"none\" stroke=\"black\" d=\"M255.87,-73.5C262.97,-73.5 271.07,-73.5 279.64,-73.5\"/>\n<polygon fill=\"black\" stroke=\"black\" points=\"279.59,-77 289.59,-73.5 279.59,-70 279.59,-77\"/>\n</g>\n<!-- 1867797683152 -->\n<g id=\"node15\" class=\"node\">\n<title>1867797683152</title>\n<polygon fill=\"none\" stroke=\"black\" points=\"2.25,-110.5 2.25,-146.5 163.25,-146.5 163.25,-110.5 2.25,-110.5\"/>\n<text xml:space=\"preserve\" text-anchor=\"middle\" x=\"42.12\" y=\"-123.7\" font-family=\"Times New Roman,serif\" font-size=\"14.00\">data 0.0000</text>\n<polyline fill=\"none\" stroke=\"black\" points=\"82,-111 82,-146.5\"/>\n<text xml:space=\"preserve\" text-anchor=\"middle\" x=\"122.62\" y=\"-123.7\" font-family=\"Times New Roman,serif\" font-size=\"14.00\">grad 0.5000</text>\n</g>\n<!-- 1867797683152&#45;&gt;1867797489296* -->\n<g id=\"edge11\" class=\"edge\">\n<title>1867797683152&#45;&gt;1867797489296*</title>\n<path fill=\"none\" stroke=\"black\" d=\"M163.61,-128.5C172.73,-128.5 181.67,-128.5 189.85,-128.5\"/>\n<polygon fill=\"black\" stroke=\"black\" points=\"189.69,-132 199.69,-128.5 189.69,-125 189.69,-132\"/>\n</g>\n</g>\n</svg>\n",
      "text/plain": [
       "<graphviz.graphs.Digraph at 0x1b2e1672150>"
      ]
     },
     "execution_count": 40,
     "metadata": {},
     "output_type": "execute_result"
    }
   ],
   "execution_count": 40
  }
 ]
}
