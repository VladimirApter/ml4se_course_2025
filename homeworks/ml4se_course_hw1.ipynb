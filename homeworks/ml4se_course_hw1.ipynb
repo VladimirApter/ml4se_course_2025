{
  "nbformat": 4,
  "nbformat_minor": 0,
  "metadata": {
    "colab": {
      "provenance": [],
      "authorship_tag": "ABX9TyOKTn0e7cF7niHHtIqVAdBt",
      "include_colab_link": true
    },
    "kernelspec": {
      "name": "python3",
      "display_name": "Python 3"
    },
    "language_info": {
      "name": "python"
    }
  },
  "cells": [
    {
      "cell_type": "markdown",
      "metadata": {
        "id": "view-in-github",
        "colab_type": "text"
      },
      "source": [
        "<a href=\"https://colab.research.google.com/github/VladimirApter/ml4se_course_2025/blob/main/homeworks/ml4se_course_hw1.ipynb\" target=\"_parent\"><img src=\"https://colab.research.google.com/assets/colab-badge.svg\" alt=\"Open In Colab\"/></a>"
      ]
    },
    {
      "cell_type": "markdown",
      "source": [
        "**Модель: ChatGPT 5 Instant**\n",
        "\n",
        "**Промпт:**\n",
        "\n",
        "У меня есть исходный код программы на python. Нужно подготовить его для анализа, а конкретно:\n",
        "1. Убрать все комментарии\n",
        "2. Заменить табуляцию на пробелы, а лишние пробелы убрать\n",
        "3. Имена переменных, функций и классов заменить на такие: \"name_i\", где i - порядковый номер переменной, функции или класса.\n",
        "\n",
        "Для примера рассмотри такой код в виде строки:\n",
        "`\"import math  # comment\\n\\nmy_variable = 10\\ndef my_function(x):\\n\\treturn my_variable + x\\n\\nclass MyClass:\\n    pass\\n\"`\n",
        "\n",
        "После обработки он должен выглядеть так:\n",
        "`\"import math\\nname_1 = 10\\n\\ndef name_2(name_3):\\n    return name_1 + name_3\\n\\nclass name_4:\\n    pass\\n\"`\n",
        "\n",
        "Напиши программу на python, которая будет подобным образом обрабатывать строковое представление кода."
      ],
      "metadata": {
        "id": "gq5EmVPdGBjD"
      }
    },
    {
      "cell_type": "code",
      "source": [
        "import ast\n",
        "from typing import Dict\n",
        "\n",
        "\n",
        "class Renamer(ast.NodeTransformer):\n",
        "    def __init__(self) -> None:\n",
        "        self.mapping: Dict[str, str] = {}\n",
        "        self.counter = 0\n",
        "        super().__init__()\n",
        "\n",
        "    def _bind(self, original: str) -> str:\n",
        "        if original not in self.mapping:\n",
        "            self.counter += 1\n",
        "            self.mapping[original] = f\"name_{self.counter}\"\n",
        "        return self.mapping[original]\n",
        "\n",
        "    def visit_FunctionDef(self, node: ast.FunctionDef) -> ast.AST:\n",
        "        node.name = self._bind(node.name)\n",
        "        self.generic_visit(node)\n",
        "        return node\n",
        "\n",
        "    def visit_ClassDef(self, node: ast.ClassDef) -> ast.AST:\n",
        "        node.name = self._bind(node.name)\n",
        "        self.generic_visit(node)\n",
        "        return node\n",
        "\n",
        "    def visit_Name(self, node: ast.Name) -> ast.AST:\n",
        "        node.id = self._bind(node.id)\n",
        "        return node\n",
        "\n",
        "    def visit_arg(self, node: ast.arg) -> ast.AST:\n",
        "        node.arg = self._bind(node.arg)\n",
        "        return node\n",
        "\n",
        "\n",
        "def process_code(code_str: str) -> str:\n",
        "    tree = ast.parse(code_str)\n",
        "    tree = Renamer().visit(tree)\n",
        "    ast.fix_missing_locations(tree)\n",
        "    return ast.unparse(tree)\n",
        "\n",
        "\n",
        "if __name__ == \"__main__\":\n",
        "    src = (\n",
        "        \"import math  # comment\\n\\nmy_variable = 10\\ndef my_function(x):\\n\\treturn my_variable + x\\n\\nclass MyClass:\\n    pass\\n\"\n",
        "    )\n",
        "    print(process_code(src))\n"
      ],
      "metadata": {
        "colab": {
          "base_uri": "https://localhost:8080/"
        },
        "id": "CqVefWPNGhA2",
        "outputId": "fa07175d-4f40-431b-bbe4-e56deba6b67f"
      },
      "execution_count": 3,
      "outputs": [
        {
          "output_type": "stream",
          "name": "stdout",
          "text": [
            "import math\n",
            "name_1 = 10\n",
            "\n",
            "def name_2(name_3):\n",
            "    return name_1 + name_3\n",
            "\n",
            "class name_4:\n",
            "    pass\n"
          ]
        }
      ]
    }
  ]
}